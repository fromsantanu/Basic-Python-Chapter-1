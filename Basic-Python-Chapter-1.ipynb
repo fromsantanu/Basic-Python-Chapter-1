{
 "cells": [
  {
   "cell_type": "markdown",
   "id": "a0e7d5fe",
   "metadata": {},
   "source": [
    "# Variables"
   ]
  },
  {
   "cell_type": "markdown",
   "id": "8c6a3af2",
   "metadata": {},
   "source": [
    "### Lesson 1"
   ]
  },
  {
   "cell_type": "code",
   "execution_count": 8,
   "id": "0465d283",
   "metadata": {
    "scrolled": false
   },
   "outputs": [
    {
     "name": "stdout",
     "output_type": "stream",
     "text": [
      "Hello, World! Good Day! How are you\n"
     ]
    }
   ],
   "source": [
    "print(\"Hello, World!\", \"Good Day!\", \"How are you\")"
   ]
  },
  {
   "cell_type": "markdown",
   "id": "cd3da196",
   "metadata": {},
   "source": [
    "### Lesson 2"
   ]
  },
  {
   "cell_type": "code",
   "execution_count": 3,
   "id": "3db44065",
   "metadata": {},
   "outputs": [
    {
     "name": "stdout",
     "output_type": "stream",
     "text": [
      "300\n"
     ]
    }
   ],
   "source": [
    "p = 100      # 100\n",
    "p = p + 500       # 100 + 500 = 600\n",
    "p = p - 300      # 600 - 300 = 300\n",
    "print(p)"
   ]
  },
  {
   "cell_type": "markdown",
   "id": "49a9271d",
   "metadata": {
    "scrolled": false
   },
   "source": [
    "### Lesson 3"
   ]
  },
  {
   "cell_type": "code",
   "execution_count": 10,
   "id": "86b47d3c",
   "metadata": {},
   "outputs": [
    {
     "name": "stdout",
     "output_type": "stream",
     "text": [
      "20\n",
      "10\n"
     ]
    }
   ],
   "source": [
    "# First method with third variable\n",
    "a = 10\n",
    "b = 20\n",
    "t = a\n",
    "a = b\n",
    "b = t\n",
    "print(a)\n",
    "print(b)"
   ]
  },
  {
   "cell_type": "markdown",
   "id": "4c197637",
   "metadata": {},
   "source": [
    "### Lesson 4"
   ]
  },
  {
   "cell_type": "code",
   "execution_count": 3,
   "id": "42823985",
   "metadata": {
    "scrolled": true
   },
   "outputs": [
    {
     "name": "stdout",
     "output_type": "stream",
     "text": [
      "20\n",
      "10\n"
     ]
    }
   ],
   "source": [
    "# Second method without third variable\n",
    "a = 10\n",
    "b = 20\n",
    "a = a + b\n",
    "b = a - b\n",
    "a = a - b\n",
    "print(a)\n",
    "print(b)"
   ]
  },
  {
   "cell_type": "markdown",
   "id": "1db88147",
   "metadata": {},
   "source": [
    "### Lesson 5"
   ]
  },
  {
   "cell_type": "code",
   "execution_count": 4,
   "id": "01a2015b",
   "metadata": {
    "scrolled": false
   },
   "outputs": [
    {
     "name": "stdout",
     "output_type": "stream",
     "text": [
      "20\n",
      "10\n"
     ]
    }
   ],
   "source": [
    "a = 10\n",
    "b = 20\n",
    "a, b = b , a\n",
    "print(a)\n",
    "print(b)"
   ]
  },
  {
   "cell_type": "code",
   "execution_count": null,
   "id": "dafaae90",
   "metadata": {},
   "outputs": [],
   "source": []
  }
 ],
 "metadata": {
  "kernelspec": {
   "display_name": "Python 3 (ipykernel)",
   "language": "python",
   "name": "python3"
  },
  "language_info": {
   "codemirror_mode": {
    "name": "ipython",
    "version": 3
   },
   "file_extension": ".py",
   "mimetype": "text/x-python",
   "name": "python",
   "nbconvert_exporter": "python",
   "pygments_lexer": "ipython3",
   "version": "3.10.14"
  }
 },
 "nbformat": 4,
 "nbformat_minor": 5
}
