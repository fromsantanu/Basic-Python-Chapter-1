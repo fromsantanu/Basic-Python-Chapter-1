{
 "cells": [
  {
   "cell_type": "markdown",
   "id": "a0e7d5fe",
   "metadata": {},
   "source": [
    "# Variables"
   ]
  },
  {
   "cell_type": "markdown",
   "id": "8c6a3af2",
   "metadata": {},
   "source": [
    "### Lesson 1"
   ]
  },
  {
   "cell_type": "code",
   "execution_count": 8,
   "id": "0465d283",
   "metadata": {
    "scrolled": false
   },
   "outputs": [
    {
     "name": "stdout",
     "output_type": "stream",
     "text": [
      "Hello, World! Good Day! How are you\n"
     ]
    }
   ],
   "source": [
    "print(\"Hello, World!\", \"Good Day!\", \"How are you\")"
   ]
  },
  {
   "cell_type": "markdown",
   "id": "cd3da196",
   "metadata": {},
   "source": [
    "### Lesson 2"
   ]
  },
  {
   "cell_type": "code",
   "execution_count": 3,
   "id": "3db44065",
   "metadata": {},
   "outputs": [
    {
     "name": "stdout",
     "output_type": "stream",
     "text": [
      "300\n"
     ]
    }
   ],
   "source": [
    "p = 100      # 100\n",
    "p = p + 500       # 100 + 500 = 600\n",
    "p = p - 300      # 600 - 300 = 300\n",
    "print(p)"
   ]
  },
  {
   "cell_type": "markdown",
   "id": "49a9271d",
   "metadata": {
    "scrolled": false
   },
   "source": [
    "### Lesson 3"
   ]
  },
  {
   "cell_type": "code",
   "execution_count": 10,
   "id": "86b47d3c",
   "metadata": {},
   "outputs": [
    {
     "name": "stdout",
     "output_type": "stream",
     "text": [
      "20\n",
      "10\n"
     ]
    }
   ],
   "source": [
    "# First method with third variable\n",
    "a = 10\n",
    "b = 20\n",
    "t = a\n",
    "a = b\n",
    "b = t\n",
    "print(a)\n",
    "print(b)"
   ]
  },
  {
   "cell_type": "markdown",
   "id": "4c197637",
   "metadata": {},
   "source": [
    "### Lesson 4"
   ]
  },
  {
   "cell_type": "code",
   "execution_count": 3,
   "id": "42823985",
   "metadata": {
    "scrolled": true
   },
   "outputs": [
    {
     "name": "stdout",
     "output_type": "stream",
     "text": [
      "20\n",
      "10\n"
     ]
    }
   ],
   "source": [
    "# Second method without third variable\n",
    "a = 10\n",
    "b = 20\n",
    "a = a + b\n",
    "b = a - b\n",
    "a = a - b\n",
    "print(a)\n",
    "print(b)"
   ]
  },
  {
   "cell_type": "markdown",
   "id": "1db88147",
   "metadata": {},
   "source": [
    "### Lesson 5"
   ]
  },
  {
   "cell_type": "code",
   "execution_count": 4,
   "id": "01a2015b",
   "metadata": {
    "scrolled": true
   },
   "outputs": [
    {
     "name": "stdout",
     "output_type": "stream",
     "text": [
      "20\n",
      "10\n"
     ]
    }
   ],
   "source": [
    "a = 10\n",
    "b = 20\n",
    "a, b = b , a\n",
    "print(a)\n",
    "print(b)"
   ]
  },
  {
   "cell_type": "markdown",
   "id": "40efb373",
   "metadata": {},
   "source": [
    "## Data Types"
   ]
  },
  {
   "cell_type": "code",
   "execution_count": 14,
   "id": "0e242cf6",
   "metadata": {},
   "outputs": [
    {
     "name": "stdout",
     "output_type": "stream",
     "text": [
      "<class 'int'>\n"
     ]
    }
   ],
   "source": [
    "# Assigning a value to a variable\n",
    "x = 10\n",
    "\n",
    "# Printing the value of a variable\n",
    "print(type(x))\n",
    "\n",
    "# Different data types\n",
    "a = 5             # integer\n",
    "b = 3.14          # float\n",
    "c = \"Hello\"       # string\n",
    "d = True          # boolean\n"
   ]
  },
  {
   "cell_type": "code",
   "execution_count": 5,
   "id": "c472d58f",
   "metadata": {},
   "outputs": [
    {
     "data": {
      "text/plain": [
       "int"
      ]
     },
     "execution_count": 5,
     "metadata": {},
     "output_type": "execute_result"
    }
   ],
   "source": [
    "type(a)"
   ]
  },
  {
   "cell_type": "markdown",
   "id": "fc7083c7",
   "metadata": {},
   "source": [
    "## Assessing Data Type"
   ]
  },
  {
   "cell_type": "code",
   "execution_count": 10,
   "id": "8edb9443",
   "metadata": {},
   "outputs": [
    {
     "name": "stdout",
     "output_type": "stream",
     "text": [
      "4\n"
     ]
    }
   ],
   "source": [
    "a = 10\n",
    "b = \"Hello\"\n",
    "c = True\n",
    "print(a.bit_length())"
   ]
  },
  {
   "cell_type": "code",
   "execution_count": 6,
   "id": "c706dfc7",
   "metadata": {
    "scrolled": true
   },
   "outputs": [
    {
     "name": "stdout",
     "output_type": "stream",
     "text": [
      "Integer: 10\n",
      "Float: 3.14\n",
      "String: John Doe\n",
      "Boolean: True\n",
      "List: ['apple', 'banana', 'grapes', 'papita', 'orange']\n",
      "Tuple: (45, 60)\n",
      "Set: {1, 2, 3, 4}\n",
      "Dictionary: {'name': 'Udit', 'age': 25, 'city': 'New York'}\n",
      "<class 'dict'>\n"
     ]
    }
   ],
   "source": [
    "# Fundamental Data Types\n",
    "# Integer\n",
    "num1 = 10\n",
    "\n",
    "# Float\n",
    "num2 = 3.14\n",
    "\n",
    "# String\n",
    "name = \"John Doe\"\n",
    "\n",
    "# Boolean\n",
    "is_valid = True\n",
    "\n",
    "# Collection data types\n",
    "# List\n",
    "fruits = [\"apple\", \"banana\",\"grapes\", \"papita\"]\n",
    "fruits.append(\"orange\")\n",
    "\n",
    "# Tuple\n",
    "coordinates = (45, 60)\n",
    "# coordinates.append(100) $ Not allowed\n",
    "\n",
    "# Set\n",
    "numbers = {1, 2, 3, 4, 4}\n",
    "# last element is rejected because all sets can store unique values\n",
    "\n",
    "# Dictionary\n",
    "record = {\"name\": \"Udit\", \"age\": 25, \"city\": \"New York\"}\n",
    "\n",
    "# Printing the data types\n",
    "print(\"Integer:\", num1)\n",
    "print(\"Float:\", num2)\n",
    "print(\"String:\", name)\n",
    "print(\"Boolean:\", is_valid)\n",
    "print(\"List:\", fruits)\n",
    "print(\"Tuple:\", coordinates)\n",
    "print(\"Set:\", numbers)\n",
    "print(\"Dictionary:\", record)\n",
    "\n",
    "print(type(record))\n"
   ]
  },
  {
   "cell_type": "markdown",
   "id": "e3cc5847",
   "metadata": {},
   "source": [
    "## Numeric Operators"
   ]
  },
  {
   "cell_type": "code",
   "execution_count": 4,
   "id": "2f06597c",
   "metadata": {
    "scrolled": true
   },
   "outputs": [
    {
     "name": "stdout",
     "output_type": "stream",
     "text": [
      "8\n",
      "2\n",
      "15\n",
      "1.6666666666666667\n",
      "2\n",
      "125\n"
     ]
    }
   ],
   "source": [
    "# Assignment\n",
    "a = 5\n",
    "b = 3\n",
    "\n",
    "# Addition\n",
    "c = a + b\n",
    "print(c)\n",
    "\n",
    "# Subtraction\n",
    "d = a - b\n",
    "print(d)\n",
    "\n",
    "# Multiplication\n",
    "e = a * b\n",
    "print(e)\n",
    "\n",
    "# Division\n",
    "f = a / b\n",
    "print(f)\n",
    "\n",
    "# Modulo (remainder)\n",
    "g = a % b\n",
    "print(g)\n",
    "\n",
    "# Exponentiation\n",
    "h = a ** b\n",
    "print(h)\n"
   ]
  },
  {
   "cell_type": "markdown",
   "id": "963d49c1",
   "metadata": {},
   "source": [
    "## Inbuilt Data Structures"
   ]
  },
  {
   "cell_type": "code",
   "execution_count": 5,
   "id": "20dc3fd2",
   "metadata": {},
   "outputs": [],
   "source": [
    "Integer: 10\n",
    "Float: 3.14\n",
    "String: \"John Doe\"\n",
    "Boolean: True\n",
    "List: ['apple', 'banana', 'orange']\n",
    "Tuple: (10, 20)\n",
    "Set: {1, 2, 3, 4, 5}\n",
    "Dictionary: {'name': 'Alice', 'age': 25, 'city': 'New York'}\n"
   ]
  },
  {
   "cell_type": "markdown",
   "id": "8246533a",
   "metadata": {},
   "source": [
    "## Relational Operators"
   ]
  },
  {
   "cell_type": "code",
   "execution_count": null,
   "id": "f918e832",
   "metadata": {},
   "outputs": [],
   "source": [
    "# > is greater than\n",
    "# < is less than\n",
    "# >= is greater than or equal\n",
    "# <= is less than or equal\n",
    "# ==  equal\n",
    "# != not equal"
   ]
  },
  {
   "cell_type": "code",
   "execution_count": null,
   "id": "72f28dcc",
   "metadata": {},
   "outputs": [],
   "source": [
    "# and \n",
    "# or\n",
    "# not"
   ]
  },
  {
   "cell_type": "code",
   "execution_count": 5,
   "id": "62f1e4bc",
   "metadata": {},
   "outputs": [
    {
     "name": "stdout",
     "output_type": "stream",
     "text": [
      "True\n"
     ]
    }
   ],
   "source": [
    "a = 10\n",
    "b = 20\n",
    "c = 15\n",
    "print(b > c  or a > c)\n"
   ]
  },
  {
   "cell_type": "code",
   "execution_count": 6,
   "id": "6d50390b",
   "metadata": {},
   "outputs": [
    {
     "name": "stdout",
     "output_type": "stream",
     "text": [
      "x is not greater than 5\n"
     ]
    }
   ],
   "source": [
    "x = 2\n",
    "\n",
    "if x > 5:\n",
    "    print(\"x is greater than 5\")\n",
    "else:\n",
    "    print(\"x is not greater than 5\")\n"
   ]
  },
  {
   "cell_type": "markdown",
   "id": "93c3b696",
   "metadata": {},
   "source": [
    "## Independent If constructs"
   ]
  },
  {
   "cell_type": "code",
   "execution_count": 7,
   "id": "aee73866",
   "metadata": {},
   "outputs": [
    {
     "name": "stdout",
     "output_type": "stream",
     "text": [
      "none is greater\n"
     ]
    }
   ],
   "source": [
    "# Find the largest - version 1\n",
    "\n",
    "a = 3\n",
    "b = 3\n",
    "\n",
    "# independent if conditions\n",
    "if b > a :\n",
    "    print (\"b is greater\")\n",
    "    \n",
    "if a > b:\n",
    "    print (\"a is greater\")\n",
    "    \n",
    "if a == b:\n",
    "    print (\"none is greater\")"
   ]
  },
  {
   "cell_type": "markdown",
   "id": "c7a90375",
   "metadata": {},
   "source": [
    "## If elif construct"
   ]
  },
  {
   "cell_type": "code",
   "execution_count": 9,
   "id": "3326545c",
   "metadata": {
    "scrolled": true
   },
   "outputs": [
    {
     "name": "stdout",
     "output_type": "stream",
     "text": [
      "Enter a : 7\n",
      "Enter b : 4\n",
      "a is greater\n"
     ]
    }
   ],
   "source": [
    "# Find the largest - version 2\n",
    "\n",
    "a = int(input(\"Enter a : \"))\n",
    "b = int(input(\"Enter b : \"))\n",
    "\n",
    "# If elif else constuct (single construct)\n",
    "if b > a:\n",
    "    print (\"b is greater\")\n",
    "elif a > b:\n",
    "    print (\"a is greater\")\n",
    "else:\n",
    "    print (\"none is greater\")"
   ]
  },
  {
   "cell_type": "code",
   "execution_count": 12,
   "id": "2b405b39",
   "metadata": {},
   "outputs": [
    {
     "name": "stdout",
     "output_type": "stream",
     "text": [
      "Enter x : 10\n",
      "Enter y : 10\n",
      "Enter z : 4\n",
      "None is greatest ..\n"
     ]
    }
   ],
   "source": [
    "x = int(input(\"Enter x : \"))\n",
    "y = int(input(\"Enter y : \"))\n",
    "z = int(input(\"Enter z : \"))\n",
    "\n",
    "if x > y and x > z:\n",
    "    print(\"x is greatest\")\n",
    "elif y > x and y > z:\n",
    "    print(\"y is greatest\")  \n",
    "elif z > y and z > x:\n",
    "    print(\"z is greatest\")\n",
    "else:\n",
    "    print(\"None is greatest ..\")"
   ]
  },
  {
   "cell_type": "code",
   "execution_count": 11,
   "id": "ad2c837d",
   "metadata": {
    "scrolled": false
   },
   "outputs": [
    {
     "name": "stdout",
     "output_type": "stream",
     "text": [
      "a is greater\n"
     ]
    }
   ],
   "source": [
    "# Find the largest four variables - version 2\n",
    "\n",
    "a = 53\n",
    "b = 22\n",
    "c = 22\n",
    "d = 9\n",
    "\n",
    "# If elif else constuct (single construct)\n",
    "if a > b and a > c and a > d:\n",
    "    print (\"a is greater\")\n",
    "elif b > a and b > c and b > d:\n",
    "     print (\"b is greater\")\n",
    "elif c > a and c > b and c > d:\n",
    "     print (\"c is greater\")\n",
    "elif d > a and d > b and d > c:\n",
    "     print (\"d is greater\")\n",
    "else:\n",
    "     print (\"none is greater\")\n"
   ]
  },
  {
   "cell_type": "code",
   "execution_count": 10,
   "id": "e5b0dddd",
   "metadata": {},
   "outputs": [
    {
     "name": "stdout",
     "output_type": "stream",
     "text": [
      "Enter kilometers : 25\n",
      "Bill : 150\n"
     ]
    }
   ],
   "source": [
    "km = int(input(\"Enter kilometers : \"))\n",
    "\n",
    "if km > 20 :\n",
    "    b = 30 + 18*5 + (km - 20) * 6\n",
    "elif km > 2 :\n",
    "    b = 30 + (km - 2) * 5\n",
    "else:\n",
    "    b = 30\n",
    "\n",
    "print(\"Bill :\", b)\n"
   ]
  },
  {
   "cell_type": "code",
   "execution_count": 6,
   "id": "bb65a6e2",
   "metadata": {},
   "outputs": [
    {
     "name": "stdout",
     "output_type": "stream",
     "text": [
      "Enter annual income : 2000000\n",
      "Tax =  190000.0\n"
     ]
    }
   ],
   "source": [
    "# Tax calculation problem\n",
    "ai = int(input(\"Enter annual income : \"))\n",
    "if ai >= 1500000:\n",
    "    tx = 200000*.05 + 800000*.1 + (ai - 1500000) * .2\n",
    "elif ai >= 700000:\n",
    "    tx = 200000*.05 + (ai - 700000)*.1\n",
    "elif ai >= 500000:\n",
    "    tx = (ai-500000)*.05\n",
    "else:\n",
    "    tx = 0\n",
    "print(\"Tax = \", tx)\n"
   ]
  },
  {
   "cell_type": "code",
   "execution_count": 3,
   "id": "cf3684a4",
   "metadata": {},
   "outputs": [
    {
     "ename": "KeyboardInterrupt",
     "evalue": "Interrupted by user",
     "output_type": "error",
     "traceback": [
      "\u001b[1;31m---------------------------------------------------------------------------\u001b[0m",
      "\u001b[1;31mKeyboardInterrupt\u001b[0m                         Traceback (most recent call last)",
      "Cell \u001b[1;32mIn[3], line 6\u001b[0m\n\u001b[0;32m      1\u001b[0m \u001b[38;5;66;03m##### Weekly hrs : input\u001b[39;00m\n\u001b[0;32m      2\u001b[0m \u001b[38;5;66;03m# upto 40 hrs remuneration offered is 10000\u001b[39;00m\n\u001b[0;32m      3\u001b[0m \u001b[38;5;66;03m# for next 20 hrs @2000/hr\u001b[39;00m\n\u001b[0;32m      4\u001b[0m \u001b[38;5;66;03m# for next onwards @3000/hr\u001b[39;00m\n\u001b[1;32m----> 6\u001b[0m wh \u001b[38;5;241m=\u001b[39m \u001b[38;5;28mint\u001b[39m(\u001b[38;5;28;43minput\u001b[39;49m\u001b[43m(\u001b[49m\u001b[38;5;124;43m\"\u001b[39;49m\u001b[38;5;124;43mEnter work hours : \u001b[39;49m\u001b[38;5;124;43m\"\u001b[39;49m\u001b[43m)\u001b[49m)\n\u001b[0;32m      8\u001b[0m \u001b[38;5;28;01mif\u001b[39;00m wh \u001b[38;5;241m>\u001b[39m \u001b[38;5;241m60\u001b[39m :\n\u001b[0;32m      9\u001b[0m    rm \u001b[38;5;241m=\u001b[39m \u001b[38;5;241m10000\u001b[39m \u001b[38;5;241m+\u001b[39m \u001b[38;5;241m20\u001b[39m\u001b[38;5;241m*\u001b[39m\u001b[38;5;241m2000\u001b[39m \u001b[38;5;241m+\u001b[39m (wh \u001b[38;5;241m-\u001b[39m \u001b[38;5;241m60\u001b[39m) \u001b[38;5;241m*\u001b[39m \u001b[38;5;241m3000\u001b[39m\n",
      "File \u001b[1;32mG:\\Anaconda\\lib\\site-packages\\ipykernel\\kernelbase.py:1175\u001b[0m, in \u001b[0;36mKernel.raw_input\u001b[1;34m(self, prompt)\u001b[0m\n\u001b[0;32m   1171\u001b[0m \u001b[38;5;28;01mif\u001b[39;00m \u001b[38;5;129;01mnot\u001b[39;00m \u001b[38;5;28mself\u001b[39m\u001b[38;5;241m.\u001b[39m_allow_stdin:\n\u001b[0;32m   1172\u001b[0m     \u001b[38;5;28;01mraise\u001b[39;00m StdinNotImplementedError(\n\u001b[0;32m   1173\u001b[0m         \u001b[38;5;124m\"\u001b[39m\u001b[38;5;124mraw_input was called, but this frontend does not support input requests.\u001b[39m\u001b[38;5;124m\"\u001b[39m\n\u001b[0;32m   1174\u001b[0m     )\n\u001b[1;32m-> 1175\u001b[0m \u001b[38;5;28;01mreturn\u001b[39;00m \u001b[38;5;28;43mself\u001b[39;49m\u001b[38;5;241;43m.\u001b[39;49m\u001b[43m_input_request\u001b[49m\u001b[43m(\u001b[49m\n\u001b[0;32m   1176\u001b[0m \u001b[43m    \u001b[49m\u001b[38;5;28;43mstr\u001b[39;49m\u001b[43m(\u001b[49m\u001b[43mprompt\u001b[49m\u001b[43m)\u001b[49m\u001b[43m,\u001b[49m\n\u001b[0;32m   1177\u001b[0m \u001b[43m    \u001b[49m\u001b[38;5;28;43mself\u001b[39;49m\u001b[38;5;241;43m.\u001b[39;49m\u001b[43m_parent_ident\u001b[49m\u001b[43m[\u001b[49m\u001b[38;5;124;43m\"\u001b[39;49m\u001b[38;5;124;43mshell\u001b[39;49m\u001b[38;5;124;43m\"\u001b[39;49m\u001b[43m]\u001b[49m\u001b[43m,\u001b[49m\n\u001b[0;32m   1178\u001b[0m \u001b[43m    \u001b[49m\u001b[38;5;28;43mself\u001b[39;49m\u001b[38;5;241;43m.\u001b[39;49m\u001b[43mget_parent\u001b[49m\u001b[43m(\u001b[49m\u001b[38;5;124;43m\"\u001b[39;49m\u001b[38;5;124;43mshell\u001b[39;49m\u001b[38;5;124;43m\"\u001b[39;49m\u001b[43m)\u001b[49m\u001b[43m,\u001b[49m\n\u001b[0;32m   1179\u001b[0m \u001b[43m    \u001b[49m\u001b[43mpassword\u001b[49m\u001b[38;5;241;43m=\u001b[39;49m\u001b[38;5;28;43;01mFalse\u001b[39;49;00m\u001b[43m,\u001b[49m\n\u001b[0;32m   1180\u001b[0m \u001b[43m\u001b[49m\u001b[43m)\u001b[49m\n",
      "File \u001b[1;32mG:\\Anaconda\\lib\\site-packages\\ipykernel\\kernelbase.py:1217\u001b[0m, in \u001b[0;36mKernel._input_request\u001b[1;34m(self, prompt, ident, parent, password)\u001b[0m\n\u001b[0;32m   1214\u001b[0m             \u001b[38;5;28;01mbreak\u001b[39;00m\n\u001b[0;32m   1215\u001b[0m \u001b[38;5;28;01mexcept\u001b[39;00m \u001b[38;5;167;01mKeyboardInterrupt\u001b[39;00m:\n\u001b[0;32m   1216\u001b[0m     \u001b[38;5;66;03m# re-raise KeyboardInterrupt, to truncate traceback\u001b[39;00m\n\u001b[1;32m-> 1217\u001b[0m     \u001b[38;5;28;01mraise\u001b[39;00m \u001b[38;5;167;01mKeyboardInterrupt\u001b[39;00m(\u001b[38;5;124m\"\u001b[39m\u001b[38;5;124mInterrupted by user\u001b[39m\u001b[38;5;124m\"\u001b[39m) \u001b[38;5;28;01mfrom\u001b[39;00m \u001b[38;5;28;01mNone\u001b[39;00m\n\u001b[0;32m   1218\u001b[0m \u001b[38;5;28;01mexcept\u001b[39;00m \u001b[38;5;167;01mException\u001b[39;00m:\n\u001b[0;32m   1219\u001b[0m     \u001b[38;5;28mself\u001b[39m\u001b[38;5;241m.\u001b[39mlog\u001b[38;5;241m.\u001b[39mwarning(\u001b[38;5;124m\"\u001b[39m\u001b[38;5;124mInvalid Message:\u001b[39m\u001b[38;5;124m\"\u001b[39m, exc_info\u001b[38;5;241m=\u001b[39m\u001b[38;5;28;01mTrue\u001b[39;00m)\n",
      "\u001b[1;31mKeyboardInterrupt\u001b[0m: Interrupted by user"
     ]
    }
   ],
   "source": [
    "##### Weekly hrs : input\n",
    "# upto 40 hrs remuneration offered is 10000\n",
    "# for next 20 hrs @2000/hr\n",
    "# for next onwards @3000/hr\n",
    "\n",
    "wh = int(input(\"Enter work hours : \"))\n",
    "\n",
    "if wh > 60 :\n",
    "   rm = 10000 + 20*2000 + (wh - 60) * 3000\n",
    "elif wh > 40 :\n",
    "   rm = 10000 + (wh - 40) * 2000\n",
    "else:\n",
    "   rm = 10000\n",
    "\n",
    "print(\"Remuneration : \", rm)"
   ]
  },
  {
   "cell_type": "markdown",
   "id": "809dcdd2",
   "metadata": {},
   "source": [
    "## Range function"
   ]
  },
  {
   "cell_type": "code",
   "execution_count": 10,
   "id": "0d024368",
   "metadata": {},
   "outputs": [
    {
     "name": "stdout",
     "output_type": "stream",
     "text": [
      "[3, 4, 5, 6, 7, 8, 9, 10, 11]\n"
     ]
    }
   ],
   "source": [
    "l = list(range(3, 12, 1))\n",
    "print(l)"
   ]
  },
  {
   "cell_type": "code",
   "execution_count": 15,
   "id": "ea9c4322",
   "metadata": {
    "scrolled": false
   },
   "outputs": [
    {
     "name": "stdout",
     "output_type": "stream",
     "text": [
      "1\n",
      "2\n",
      "3\n",
      "4\n",
      "5\n",
      "6\n",
      "7\n",
      "8\n",
      "9\n",
      "10\n",
      "Grand Sum :  55\n"
     ]
    }
   ],
   "source": [
    "#Printing numbers between 1 to 10 with for loop\n",
    "sum = 0\n",
    "\n",
    "for i in range(1, 11, 1): # start, stop, step\n",
    "    sum = sum + i\n",
    "    print(i)\n",
    "\n",
    "print (\"Grand Sum : \", sum)\n"
   ]
  },
  {
   "cell_type": "code",
   "execution_count": 13,
   "id": "cd50fa78",
   "metadata": {},
   "outputs": [
    {
     "name": "stdout",
     "output_type": "stream",
     "text": [
      "1\n",
      "4\n",
      "7\n",
      "10\n",
      "13\n",
      "16\n",
      "19\n"
     ]
    }
   ],
   "source": [
    "#for i in range(1, 22, 3):\n",
    "   # print(i)\n",
    "\n",
    "    \n",
    "# convert to while loop\n",
    "i = 1\n",
    "while i < 22 :\n",
    "    print(i)\n",
    "    i = i + 3\n",
    "    \n"
   ]
  },
  {
   "cell_type": "code",
   "execution_count": 12,
   "id": "cfb35a6a",
   "metadata": {},
   "outputs": [
    {
     "name": "stdout",
     "output_type": "stream",
     "text": [
      "[1, 2, 3]\n",
      "[1, 4, 7, 10, 13, 16, 19]\n"
     ]
    }
   ],
   "source": [
    "l = list({1, 2, 3})\n",
    "x = list(range(1,20, 3))\n",
    "print(l)\n",
    "print(x)"
   ]
  },
  {
   "cell_type": "markdown",
   "id": "f2210cd7",
   "metadata": {},
   "source": [
    "## While loop"
   ]
  },
  {
   "cell_type": "code",
   "execution_count": 8,
   "id": "12e0a2c3",
   "metadata": {},
   "outputs": [
    {
     "name": "stdout",
     "output_type": "stream",
     "text": [
      "0\n",
      "1\n",
      "2\n",
      "3\n",
      "4\n"
     ]
    }
   ],
   "source": [
    "# While loop\n",
    "count = 0\n",
    "while count < 5:\n",
    "    print(count)\n",
    "    count = count + 1"
   ]
  },
  {
   "cell_type": "code",
   "execution_count": 7,
   "id": "541ce4ae",
   "metadata": {},
   "outputs": [
    {
     "name": "stdout",
     "output_type": "stream",
     "text": [
      "The sum is: 5050\n"
     ]
    }
   ],
   "source": [
    "# Summing numbers from 1 to 100 using a while loop:\n",
    "total = 0\n",
    "i = 1\n",
    "\n",
    "while i <= 100:\n",
    "    # inside loop\n",
    "    total += i\n",
    "    i += 1\n",
    "    # print(\"The sum is:\", total)\n",
    "\n",
    "# outside loop\n",
    "print(\"The sum is:\", total)\n"
   ]
  },
  {
   "cell_type": "code",
   "execution_count": 14,
   "id": "746bfa92",
   "metadata": {},
   "outputs": [
    {
     "name": "stdout",
     "output_type": "stream",
     "text": [
      "2\n",
      "4\n",
      "6\n",
      "8\n",
      "10\n",
      "12\n",
      "14\n",
      "16\n",
      "18\n",
      "20\n"
     ]
    }
   ],
   "source": [
    "# Printing even numbers from 1 to 20 using a for loop and an if statement\n",
    "for num in range(1, 21):\n",
    "    if num % 2 == 0:\n",
    "        print(num)\n"
   ]
  },
  {
   "cell_type": "code",
   "execution_count": 15,
   "id": "414ff67f",
   "metadata": {},
   "outputs": [
    {
     "name": "stdout",
     "output_type": "stream",
     "text": [
      "Enter a number: 6\n",
      "The factorial of 6 is 720\n"
     ]
    }
   ],
   "source": [
    "# Finding Factorial\n",
    "num = int(input(\"Enter a number: \"))\n",
    "factorial = 1\n",
    "\n",
    "for i in range(1, num + 1):\n",
    "    factorial *= i\n",
    "\n",
    "print(\"The factorial of\", num, \"is\", factorial)\n"
   ]
  },
  {
   "cell_type": "code",
   "execution_count": 16,
   "id": "cc9a2a96",
   "metadata": {},
   "outputs": [
    {
     "name": "stdout",
     "output_type": "stream",
     "text": [
      "[5, 2, 9, 12, 18, 20]\n",
      "5\n",
      "2\n",
      "9\n",
      "12\n",
      "18\n",
      "20\n"
     ]
    }
   ],
   "source": [
    "numbers = [5, 2, 9, 12, 18, 20]\n",
    "print(numbers)\n",
    "\n",
    "for num in numbers:\n",
    "    print(num)\n",
    "\n"
   ]
  },
  {
   "cell_type": "code",
   "execution_count": 22,
   "id": "13c170a3",
   "metadata": {},
   "outputs": [
    {
     "name": "stdout",
     "output_type": "stream",
     "text": [
      "The maximum number is: 56\n"
     ]
    }
   ],
   "source": [
    "# Finding the maximum number in a list using a for loop and an if statement:\n",
    "numbers = [5, 2, 9, 12, 7, 56, 36]\n",
    "maximum = numbers[0] # 5\n",
    "\n",
    "for num in numbers:\n",
    "    if num > maximum:\n",
    "       maximum = num\n",
    "\n",
    "print(\"The maximum number is:\", maximum)\n"
   ]
  },
  {
   "cell_type": "code",
   "execution_count": 17,
   "id": "11f1beb5",
   "metadata": {},
   "outputs": [
    {
     "name": "stdout",
     "output_type": "stream",
     "text": [
      "1\n",
      "3\n",
      "[1, 2, 3, 10, 5, 9]\n",
      "6\n",
      "1\n",
      "2\n",
      "3\n",
      "10\n",
      "5\n",
      "9\n"
     ]
    }
   ],
   "source": [
    "# Creating a list\n",
    "my_list = [1, 2, 3, 4, 5]\n",
    "\n",
    "# Accessing elements of a list\n",
    "print(my_list[0])     # 1\n",
    "print(my_list[2])     # 3\n",
    "\n",
    "# Modifying elements of a list\n",
    "my_list[3] = 10\n",
    "\n",
    "# Appending elements to a list\n",
    "my_list.append(9)\n",
    "print(my_list)\n",
    "\n",
    "# Length of a list\n",
    "length = len(my_list)\n",
    "print(length)\n",
    "\n",
    "# Looping through a list\n",
    "for item in my_list:\n",
    "    print(item)\n",
    "    \n",
    "\n"
   ]
  },
  {
   "cell_type": "code",
   "execution_count": null,
   "id": "dafaae90",
   "metadata": {},
   "outputs": [],
   "source": []
  }
 ],
 "metadata": {
  "kernelspec": {
   "display_name": "Python 3 (ipykernel)",
   "language": "python",
   "name": "python3"
  },
  "language_info": {
   "codemirror_mode": {
    "name": "ipython",
    "version": 3
   },
   "file_extension": ".py",
   "mimetype": "text/x-python",
   "name": "python",
   "nbconvert_exporter": "python",
   "pygments_lexer": "ipython3",
   "version": "3.10.14"
  }
 },
 "nbformat": 4,
 "nbformat_minor": 5
}
